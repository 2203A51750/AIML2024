{
  "nbformat": 4,
  "nbformat_minor": 0,
  "metadata": {
    "colab": {
      "provenance": [],
      "authorship_tag": "ABX9TyOQfHlX8HP0WMRw/IDpkhvP",
      "include_colab_link": true
    },
    "kernelspec": {
      "name": "python3",
      "display_name": "Python 3"
    },
    "language_info": {
      "name": "python"
    }
  },
  "cells": [
    {
      "cell_type": "markdown",
      "metadata": {
        "id": "view-in-github",
        "colab_type": "text"
      },
      "source": [
        "<a href=\"https://colab.research.google.com/github/2203A51750/AIML2024/blob/main/Assignment1.ipynb\" target=\"_parent\"><img src=\"https://colab.research.google.com/assets/colab-badge.svg\" alt=\"Open In Colab\"/></a>"
      ]
    },
    {
      "cell_type": "code",
      "execution_count": null,
      "metadata": {
        "id": "FQdvz2TLBPVt",
        "outputId": "49c94977-50e2-4f02-ce3c-54001a0fdedc",
        "colab": {
          "base_uri": "https://localhost:8080/"
        }
      },
      "outputs": [
        {
          "output_type": "stream",
          "name": "stdout",
          "text": [
            "Type of list_data: <class 'list'>\n",
            "Type of array_data: <class 'numpy.ndarray'>\n",
            "Multiplication: [ 2  4  6  8 10]\n",
            "Division: [0.5 1.  1.5 2.  2.5]\n",
            "Power of 2: [ 1  4  9 16 25]\n",
            "Addition of Two: array1 + array2 = [5 7 9]\n",
            "Sin: [ 0.84147098  0.90929743  0.14112001 -0.7568025  -0.95892427]\n",
            "Log: [0.         0.69314718 1.09861229 1.38629436 1.60943791]\n",
            "Log2: [0.         1.         1.5849625  2.         2.32192809]\n",
            "Exponential: [  2.71828183   7.3890561   20.08553692  54.59815003 148.4131591 ]\n"
          ]
        }
      ],
      "source": [
        "import numpy as np\n",
        "import pandas as pd\n",
        "\n",
        "# Lists\n",
        "list_data = [1, 2, 3, 4, 5]\n",
        "\n",
        "# Arrays\n",
        "array_data = np.array(list_data)\n",
        "\n",
        "# Identify their types\n",
        "print(\"Type of list_data:\", type(list_data))\n",
        "print(\"Type of array_data:\", type(array_data))\n",
        "\n",
        "# Perform mathematical operations\n",
        "# Multiplication\n",
        "print(\"Multiplication:\", array_data * 2)\n",
        "\n",
        "# Division\n",
        "print(\"Division:\", array_data / 2)\n",
        "\n",
        "# Power of\n",
        "print(\"Power of 2:\", array_data ** 2)\n",
        "\n",
        "# Combine text with NumPy function\n",
        "array1 = np.array([1, 2, 3])\n",
        "array2 = np.array([4, 5, 6])\n",
        "print(\"Addition of Two: array1 + array2 =\", np.add(array1, array2))\n",
        "\n",
        "# Implement np.sin(), log(), log2(), np.exp()\n",
        "print(\"Sin:\", np.sin(array_data))\n",
        "print(\"Log:\", np.log(array_data))\n",
        "print(\"Log2:\", np.log2(array_data))\n",
        "print(\"Exponential:\", np.exp(array_data))"
      ]
    }
  ]
}